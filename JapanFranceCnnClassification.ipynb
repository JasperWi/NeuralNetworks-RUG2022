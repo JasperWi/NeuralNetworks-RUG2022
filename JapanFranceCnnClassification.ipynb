{
  "cells": [
    {
      "cell_type": "code",
      "execution_count": null,
      "metadata": {
        "id": "6A2phCgZjM6D"
      },
      "outputs": [],
      "source": [
        "import tensorflow as tf\n",
        "from tensorflow.keras import datasets, layers, models\n",
        "import tensorflow.keras\n",
        "from google.colab import drive\n",
        "from tensorflow.keras.preprocessing.image import ImageDataGenerator\n",
        "import matplotlib.pyplot as plt"
      ]
    },
    {
      "cell_type": "code",
      "execution_count": null,
      "metadata": {
        "colab": {
          "base_uri": "https://localhost:8080/"
        },
        "id": "dxqlk4HzOyTQ",
        "outputId": "b85c44f6-eb7e-4b1e-ab19-2680ab5485ec"
      },
      "outputs": [
        {
          "output_type": "stream",
          "name": "stdout",
          "text": [
            "Mounted at /content/gdrive\n"
          ]
        }
      ],
      "source": [
        "dataset_path = 'path/to/dataset'"
      ]
    },
    {
      "cell_type": "code",
      "execution_count": null,
      "metadata": {
        "id": "Ia0Y0lYhOzWK"
      },
      "outputs": [],
      "source": [
        "batch_size = 60\n",
        "image_size = (662,662)\n",
        "class_names = ['France', 'Japan']\n",
        "\n",
        "\n",
        "# Data generators\n",
        "train_datagen = ImageDataGenerator(rescale=1./255, validation_split=0.2)\n",
        "\n",
        "\n",
        "train_batches = train_datagen.flow_from_directory(\n",
        "        dataset_path,\n",
        "        target_size=image_size,\n",
        "        batch_size=batch_size,\n",
        "        class_mode='binary',\n",
        "        subset='training')\n",
        "\n",
        "\n",
        "validation_batches = train_datagen.flow_from_directory(\n",
        "        dataset_path,\n",
        "        target_size=image_size,\n",
        "        batch_size=batch_size,\n",
        "        class_mode='binary',\n",
        "        subset='validation')\n",
        "\n",
        "\n",
        "test_batches = train_datagen.flow_from_directory(\n",
        "        dataset_path,\n",
        "        target_size=image_size,\n",
        "        batch_size=batch_size,\n",
        "        class_mode='binary', \n",
        "        shuffle=False,\n",
        "        subset='validation')\n",
        "\n"
      ]
    },
    {
      "cell_type": "code",
      "execution_count": null,
      "metadata": {
        "id": "8w6nS9y2j2f1"
      },
      "outputs": [],
      "source": [
        "model = tf.keras.Sequential()\n",
        "model.add(layers.Conv2D(5, (3, 3), activation='relu', input_shape=(662,662, 3)))\n",
        "model.add(layers.MaxPooling2D((4, 4)))\n",
        "model.add(layers.Conv2D(10, (4, 4), activation='relu'))\n",
        "model.add(layers.MaxPooling2D((4, 4)))\n",
        "model.add(layers.Conv2D(10, (5, 5), activation='relu'))\n",
        "model.add(layers.MaxPooling2D((2, 2)))\n",
        "model.add(layers.Conv2D(15, (5, 5), activation='relu'))\n",
        "model.add(layers.MaxPooling2D((2, 2)))\n",
        "model.add(layers.Flatten())\n",
        "model.add(layers.Dense(20, activation='relu'))\n",
        "model.add(layers.Dense(2))\n",
        "\n",
        "model.compile(optimizer='adam',\n",
        "              loss=tf.keras.losses.SparseCategoricalCrossentropy(from_logits=True),\n",
        "              #loss='categorical_crossentropy',\n",
        "              metrics=['accuracy'])"
      ]
    },
    {
      "cell_type": "code",
      "execution_count": null,
      "metadata": {
        "id": "6-nHrzkIkBk0"
      },
      "outputs": [],
      "source": [
        "model.fit(train_batches, epochs=5)"
      ]
    },
    {
      "cell_type": "code",
      "execution_count": null,
      "metadata": {
        "id": "f5v-bB5Ftzyv"
      },
      "outputs": [],
      "source": [
        "model.fit(train_batches, epochs=5)"
      ]
    },
    {
      "cell_type": "code",
      "execution_count": null,
      "metadata": {
        "id": "EVi_AqYSt0Vm"
      },
      "outputs": [],
      "source": [
        "model.fit(train_batches, epochs=5)"
      ]
    },
    {
      "cell_type": "code",
      "execution_count": null,
      "metadata": {
        "id": "wDPITAM4mkL5"
      },
      "outputs": [],
      "source": [
        "test_loss, test_acc = model.evaluate(test_batches, verbose=2)\n",
        "\n",
        "probability_model = tf.keras.Sequential([model, tf.keras.layers.Softmax()])\n",
        "\n",
        "predictions = probability_model.predict(test_batches)"
      ]
    }
  ],
  "metadata": {
    "accelerator": "GPU",
    "colab": {
      "collapsed_sections": [],
      "name": "JapanFranceCnnClassification.ipynb",
      "provenance": []
    },
    "kernelspec": {
      "display_name": "Python 3",
      "name": "python3"
    },
    "language_info": {
      "name": "python"
    }
  },
  "nbformat": 4,
  "nbformat_minor": 0
}